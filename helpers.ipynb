{
 "cells": [
  {
   "cell_type": "code",
   "execution_count": 52,
   "metadata": {},
   "outputs": [],
   "source": [
    "from id3.moteur_id3.noeud_de_decision import NoeudDeDecision\n",
    "from id3.moteur_id3.id3 import ID3\n",
    "\n",
    "def traiter_donnees(nom_fichier):\n",
    "    f = open(nom_fichier, \"r\", encoding='utf-8-sig')\n",
    "    \n",
    "    premiereLigne = f.readline()\n",
    "    \n",
    "    noms_attributs = premiereLigne.split(',')\n",
    "    noms_attributs = [nom_attribut.strip() for nom_attribut in noms_attributs]\n",
    "    \n",
    "    donnees = []\n",
    "    \n",
    "    ligne = f.readline()\n",
    "    while ligne !='':\n",
    "        attributs = ligne.split(',')\n",
    "        donnee = [attributs[-1][0], {}]\n",
    "        for index_col in range(0, len(attributs)-1):\n",
    "            donnee[1].update({noms_attributs[index_col] : attributs[index_col]})\n",
    "        \n",
    "        donnees.append(donnee)\n",
    "        ligne = f.readline()\n",
    "\n",
    "    return donnees\n",
    "    \n",
    "    \n",
    "#donnees = traiter_donnees(\"train_bin.csv\")\n",
    "#print(donnees)\n",
    "\n",
    "#donnees_test = traiter_donnees(\"data/test_public_bin.csv\")\n",
    "#print(donnees_test)\n",
    "\n",
    "def calculer_precision(arbre, donnees_test):\n",
    "    count_ok = 0\n",
    "    \n",
    "    for donnee in donnees_test:\n",
    "        res = arbre.classifie(donnee[1])[1]\n",
    "        if(res == donnee[0]):\n",
    "            count_ok += 1\n",
    "            \n",
    "    return count_ok*100 / len(donnees_test)\n",
    "        \n",
    "        \n",
    "        \n",
    "    \n",
    "    "
   ]
  },
  {
   "cell_type": "code",
   "execution_count": null,
   "metadata": {},
   "outputs": [],
   "source": []
  }
 ],
 "metadata": {
  "kernelspec": {
   "display_name": "Python 3",
   "language": "python",
   "name": "python3"
  },
  "language_info": {
   "codemirror_mode": {
    "name": "ipython",
    "version": 3
   },
   "file_extension": ".py",
   "mimetype": "text/x-python",
   "name": "python",
   "nbconvert_exporter": "python",
   "pygments_lexer": "ipython3",
   "version": "3.7.4"
  }
 },
 "nbformat": 4,
 "nbformat_minor": 2
}
